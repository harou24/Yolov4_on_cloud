{
  "nbformat": 4,
  "nbformat_minor": 0,
  "metadata": {
    "colab": {
      "name": "Untitled0.ipynb",
      "provenance": [],
      "collapsed_sections": []
    },
    "kernelspec": {
      "name": "python3",
      "display_name": "Python 3"
    },
    "accelerator": "GPU"
  },
  "cells": [
    {
      "cell_type": "code",
      "metadata": {
        "id": "OOh9k3_NJDXz"
      },
      "source": [
        "!nvidia-smi"
      ],
      "execution_count": null,
      "outputs": []
    },
    {
      "cell_type": "code",
      "metadata": {
        "id": "hKzBv-99JKbJ"
      },
      "source": [
        "from google.colab import drive\n",
        "drive.mount('/content/gdrive')\n",
        "!ln -s /content/gdrive/My\\ Drive/ /mydrive\n",
        "!ls /mydrive"
      ],
      "execution_count": null,
      "outputs": []
    },
    {
      "cell_type": "code",
      "metadata": {
        "id": "BYouUv3NJRBy"
      },
      "source": [
        "!git clone https://github.com/AlexeyAB/darknet"
      ],
      "execution_count": null,
      "outputs": []
    },
    {
      "cell_type": "code",
      "metadata": {
        "id": "7Ce2mM2ILolw"
      },
      "source": [
        "%cd darknet\n",
        "!sed -i 's/OPENCV=0/OPENCV=1/' Makefile\n",
        "!sed -i 's/GPU=0/GPU=1/' Makefile\n",
        "!sed -i 's/CUDNN=0/CUDNN=1/' Makefile\n",
        "!sed -i 's/CUDNN_HALF=0/CUDNN_HALF=1/' Makefile"
      ],
      "execution_count": null,
      "outputs": []
    },
    {
      "cell_type": "code",
      "metadata": {
        "id": "tZ4RjUW1MUOJ"
      },
      "source": [
        "!make"
      ],
      "execution_count": null,
      "outputs": []
    },
    {
      "cell_type": "code",
      "metadata": {
        "id": "KJvJ8YvaMxTM"
      },
      "source": [
        "!cp /mydrive/yolov4/yolov4_testing.cfg cfg/yolov4_training.cfg"
      ],
      "execution_count": null,
      "outputs": []
    },
    {
      "cell_type": "code",
      "metadata": {
        "id": "892OZeMKbcWD"
      },
      "source": [
        "!echo -e 'Can\\nCup\\nPlastic-bottle\\nTrash' > data/obj.names\n",
        "!echo -e 'classes= 4\\ntrain  = data/train.txt\\nvalid  = data/train.txt\\nnames = data/obj.names\\nbackup = /mydrive/yolov4' > data/obj.data"
      ],
      "execution_count": null,
      "outputs": []
    },
    {
      "cell_type": "code",
      "metadata": {
        "id": "-bQ1W-O1cp-q"
      },
      "source": [
        "!cp cfg/yolov4_training.cfg /mydrive/yolov4/yolov4_testing.cfg\n",
        "!cp data/obj.names /mydrive/yolov4/classes.txt"
      ],
      "execution_count": null,
      "outputs": []
    },
    {
      "cell_type": "code",
      "metadata": {
        "id": "WNjlHuAtc-4G"
      },
      "source": [
        "!mkdir data/obj\n",
        "!unzip /mydrive/yolov4/all_data.zip -d data/obj"
      ],
      "execution_count": null,
      "outputs": []
    },
    {
      "cell_type": "code",
      "metadata": {
        "id": "UULIrtKYeTR9"
      },
      "source": [
        "import glob\n",
        "images_list = glob.glob(\"data/obj/train/*.jpg\")\n",
        "with open(\"data/train.txt\", \"w\") as f:\n",
        "    f.write(\"\\n\".join(images_list))"
      ],
      "execution_count": null,
      "outputs": []
    },
    {
      "cell_type": "code",
      "metadata": {
        "id": "_wsIJVvqkLPU"
      },
      "source": [
        "!cp /mydrive/yolov4/yolov4.conv.137 ."
      ],
      "execution_count": null,
      "outputs": []
    },
    {
      "cell_type": "code",
      "metadata": {
        "id": "XzUc-brukZvF"
      },
      "source": [
        "#!./darknet detector train data/obj.data cfg/yolov4_training.cfg yolov4.conv.137 -map -dont_show\n",
        "!./darknet detector train data/obj.data cfg/yolov4_training.cfg /mydrive/yolov4/yolov4_training_last.weights -map -dont_show"
      ],
      "execution_count": null,
      "outputs": []
    }
  ]
}